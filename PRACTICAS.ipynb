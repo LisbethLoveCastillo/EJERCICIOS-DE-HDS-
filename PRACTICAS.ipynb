{
 "cells": [
  {
   "cell_type": "markdown",
   "metadata": {},
   "source": [
    "EJERCICO 01"
   ]
  },
  {
   "cell_type": "code",
   "execution_count": null,
   "metadata": {},
   "outputs": [],
   "source": [
    "estudiantes = {'Juan': 16, 'Ana': 18, 'Luis': 17}\n",
    "print(estudiantes) # {'Juan': 16, 'Ana': 18, 'Luis': 17}"
   ]
  },
  {
   "cell_type": "markdown",
   "metadata": {},
   "source": [
    "EJERCICIO 02"
   ]
  },
  {
   "cell_type": "code",
   "execution_count": null,
   "metadata": {},
   "outputs": [],
   "source": [
    "estudiantes = dict([('Juan', 16), ('Ana', 18), ('Luis', 17)])\n",
    "print(estudiantes) # {'Juan': 16, 'Ana': 18, 'Luis': 17}"
   ]
  },
  {
   "cell_type": "markdown",
   "metadata": {},
   "source": [
    "EJERCICIO 03"
   ]
  },
  {
   "cell_type": "code",
   "execution_count": null,
   "metadata": {},
   "outputs": [],
   "source": [
    "estudiantes = {'Juan': 16, 'Ana': 18, 'Luis': 17}\n",
    "estudiantes['Maria'] = 15\n",
    "print(estudiantes) # {'Juan': 16, 'Ana': 18, 'Luis': 17, 'Maria': 15}"
   ]
  },
  {
   "cell_type": "markdown",
   "metadata": {},
   "source": [
    "EJERCICIO 04"
   ]
  },
  {
   "cell_type": "code",
   "execution_count": null,
   "metadata": {},
   "outputs": [],
   "source": [
    "estudiantes = {'Juan': 16, 'Ana': 18, 'Luis': 17}\n",
    "estudiantes['Ana'] = 19\n",
    "print(estudiantes) # {'Juan': 16, 'Ana': 19, 'Luis': 17}"
   ]
  },
  {
   "cell_type": "markdown",
   "metadata": {},
   "source": [
    "EJERCICIO 05"
   ]
  },
  {
   "cell_type": "code",
   "execution_count": null,
   "metadata": {},
   "outputs": [],
   "source": [
    "estudiantes = {'Juan': 16, 'Ana': 18, 'Luis': 17}\n",
    "del estudiantes['Juan']\n",
    "print(estudiantes) # {'Ana': 18, 'Luis': 17}"
   ]
  },
  {
   "cell_type": "markdown",
   "metadata": {},
   "source": [
    "EJERCICIO 06 "
   ]
  },
  {
   "cell_type": "code",
   "execution_count": null,
   "metadata": {},
   "outputs": [],
   "source": [
    "estudiantes = {'Juan': 16, 'Ana': 18, 'Luis': 17}\n",
    "print(estudiantes['Ana']) # 18"
   ]
  },
  {
   "cell_type": "markdown",
   "metadata": {},
   "source": [
    "EJERCICIO 07"
   ]
  },
  {
   "cell_type": "code",
   "execution_count": null,
   "metadata": {},
   "outputs": [],
   "source": [
    "estudiantes = {'Juan': 16, 'Ana': 18, 'Luis': 17}\n",
    "print(estudiantes.get('Maria', 'No existe')) # 'No existe'"
   ]
  },
  {
   "cell_type": "markdown",
   "metadata": {},
   "source": [
    "EJERCICIO 08"
   ]
  },
  {
   "cell_type": "code",
   "execution_count": null,
   "metadata": {},
   "outputs": [],
   "source": [
    "estudiantes = {'Juan': 16, 'Ana': 18, 'Luis': 17}\n",
    "for clave in estudiantes:\n",
    "    print(clave, estudiantes[clave])"
   ]
  },
  {
   "cell_type": "markdown",
   "metadata": {},
   "source": [
    "EJERCICIO  09"
   ]
  },
  {
   "cell_type": "code",
   "execution_count": null,
   "metadata": {},
   "outputs": [],
   "source": [
    "Juan 16\n",
    "Ana 18\n",
    "Luis 17"
   ]
  },
  {
   "cell_type": "markdown",
   "metadata": {},
   "source": [
    "EJERCICIO 10"
   ]
  },
  {
   "cell_type": "code",
   "execution_count": null,
   "metadata": {},
   "outputs": [],
   "source": [
    "estudiantes = {'Juan': 16, 'Ana': 18, 'Luis': 17}\n",
    "for clave, valor in estudiantes.items():\n",
    "    print(clave, valor)"
   ]
  },
  {
   "cell_type": "markdown",
   "metadata": {},
   "source": [
    "EJERCICIO 11"
   ]
  },
  {
   "cell_type": "code",
   "execution_count": null,
   "metadata": {},
   "outputs": [],
   "source": [
    "estudiantes = {'Juan': 16, 'Ana': 18, 'Luis': 17}\n",
    "if 'Ana' in estudiantes:\n",
    "    print('Ana es un estudiante')"
   ]
  },
  {
   "cell_type": "markdown",
   "metadata": {},
   "source": [
    "EJERCICIO 12"
   ]
  },
  {
   "cell_type": "code",
   "execution_count": null,
   "metadata": {},
   "outputs": [],
   "source": [
    "estudiantes = {'Juan': 16, 'Ana': 18, 'Luis': 17}\n",
    "print(len(estudiantes)) # 3"
   ]
  }
 ],
 "metadata": {
  "kernelspec": {
   "display_name": "Python 3",
   "language": "python",
   "name": "python3"
  },
  "language_info": {
   "codemirror_mode": {
    "name": "ipython",
    "version": 3
   },
   "file_extension": ".py",
   "mimetype": "text/x-python",
   "name": "python",
   "nbconvert_exporter": "python",
   "pygments_lexer": "ipython3",
   "version": "3.12.3"
  }
 },
 "nbformat": 4,
 "nbformat_minor": 2
}
