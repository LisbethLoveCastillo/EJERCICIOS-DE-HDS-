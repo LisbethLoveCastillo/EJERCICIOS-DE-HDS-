{
 "cells": [
  {
   "cell_type": "markdown",
   "metadata": {},
   "source": [
    "EJERCICIO 01 "
   ]
  },
  {
   "cell_type": "code",
   "execution_count": 1,
   "metadata": {},
   "outputs": [
    {
     "name": "stdout",
     "output_type": "stream",
     "text": [
      "La contraseña es incorrecta. Inténtalo de nuevo.\n"
     ]
    }
   ],
   "source": [
    "contrasena_guardada = \"ContraseñaSegura123\"\n",
    "\n",
    "contrasena_usuario = input(\"ingresa la contraseña: \")\n",
    "\n",
    "if contrasena_guardada.lower() == contrasena_usuario.lower():\n",
    "    print(\"¡La contraseña es correcta!\")\n",
    "else:\n",
    "    print(\"La contraseña es incorrecta. Inténtalo de nuevo.\")"
   ]
  },
  {
   "cell_type": "markdown",
   "metadata": {},
   "source": [
    "EJERCICIO 02 "
   ]
  },
  {
   "cell_type": "code",
   "execution_count": 3,
   "metadata": {},
   "outputs": [
    {
     "name": "stdout",
     "output_type": "stream",
     "text": [
      "El resultado de la división es: 2.0\n"
     ]
    }
   ],
   "source": [
    "dividendo = float(input(\"Ingresa el dividendo: \"))\n",
    "divisor = float(input(\"Ingresa el divisor: \"))\n",
    "\n",
    "if divisor == 0:\n",
    "    print(\"Error: No se puede dividir por cero.\")\n",
    "else:\n",
    "    resultado = dividendo / divisor\n",
    "    print(\"El resultado de la división es:\", resultado)"
   ]
  },
  {
   "cell_type": "markdown",
   "metadata": {},
   "source": [
    "EJERCICIO 03 "
   ]
  },
  {
   "cell_type": "code",
   "execution_count": 4,
   "metadata": {},
   "outputs": [
    {
     "name": "stdout",
     "output_type": "stream",
     "text": [
      "No estás obligado a pagar impuestos en este momento.\n"
     ]
    }
   ],
   "source": [
    "edad = int(input(\"ingresa tu edad: \"))\n",
    "ingresos_mensuales = float(input(\"Ingresa tus ingresos mensuales en soles: \"))\n",
    "\n",
    "if edad >= 18 and ingresos_mensuales >= 2000:\n",
    "    print(\"¡Debes pagar impuestos!\")\n",
    "else:\n",
    "    print(\"No estás obligado a pagar impuestos en este momento.\")"
   ]
  },
  {
   "cell_type": "markdown",
   "metadata": {},
   "source": [
    "EJERCICIO 04"
   ]
  },
  {
   "cell_type": "code",
   "execution_count": 5,
   "metadata": {},
   "outputs": [
    {
     "name": "stdout",
     "output_type": "stream",
     "text": [
      "Tu nombre y sexo te clasifican en el grupo: A\n"
     ]
    }
   ],
   "source": [
    "nombre = input(\"ingresa tu nombre: \")\n",
    "sexo = input(\"Ingresa tu sexo (Femenino o Masculino): \")\n",
    "\n",
    "nombre = nombre.lower()\n",
    "\n",
    "if (sexo.lower() == \"femenino\" and nombre < \"m\") or (sexo.lower() == \"masculino\" and nombre > \"n\"):\n",
    "    grupo = \"A\"\n",
    "else:\n",
    "    grupo = \"B\"\n",
    "\n",
    "print(\"Tu nombre y sexo te clasifican en el grupo:\", grupo)"
   ]
  },
  {
   "cell_type": "markdown",
   "metadata": {},
   "source": [
    "EJERCICIO 05"
   ]
  },
  {
   "cell_type": "code",
   "execution_count": 6,
   "metadata": {},
   "outputs": [
    {
     "name": "stdout",
     "output_type": "stream",
     "text": [
      "El precio de la entrada para el cliente de 30 años es: 20 soles.\n"
     ]
    }
   ],
   "source": [
    "edad = int(input(\"ingresa la edad del cliente: \"))\n",
    "\n",
    "if edad < 4:\n",
    "    precio_entrada = 0  \n",
    "elif 4 <= edad <= 18:\n",
    "    precio_entrada = 10  \n",
    "else:\n",
    "    precio_entrada = 20  \n",
    "print(f\"El precio de la entrada para el cliente de {edad} años es: {precio_entrada} soles.\")"
   ]
  },
  {
   "cell_type": "markdown",
   "metadata": {},
   "source": [
    "EJERCICIO 06"
   ]
  },
  {
   "cell_type": "code",
   "execution_count": 7,
   "metadata": {},
   "outputs": [
    {
     "name": "stdout",
     "output_type": "stream",
     "text": [
      "Años cumplidos desde tu primer año hasta la edad actual:\n",
      "1\n",
      "2\n",
      "3\n",
      "4\n",
      "5\n",
      "6\n",
      "7\n",
      "8\n",
      "9\n",
      "10\n",
      "11\n",
      "12\n",
      "13\n",
      "14\n",
      "15\n",
      "16\n",
      "17\n",
      "18\n",
      "19\n"
     ]
    }
   ],
   "source": [
    "edad = int(input(\"ingresa tu edad: \"))\n",
    "\n",
    "print(\"Años cumplidos desde tu primer año hasta la edad actual:\")\n",
    "for i in range(1, edad + 1):\n",
    "    print(i)"
   ]
  },
  {
   "cell_type": "markdown",
   "metadata": {},
   "source": [
    "EJERCICIO 07"
   ]
  },
  {
   "cell_type": "code",
   "execution_count": 8,
   "metadata": {},
   "outputs": [
    {
     "name": "stdout",
     "output_type": "stream",
     "text": [
      "&\n",
      "&&\n",
      "&&&\n",
      "&&&&\n"
     ]
    }
   ],
   "source": [
    "altura = int(input(\"ingresa un número entero para la altura del triángulo: \"))\n",
    "\n",
    "for i in range(1, altura + 1):\n",
    "    print(\"&\" * i)"
   ]
  },
  {
   "cell_type": "markdown",
   "metadata": {},
   "source": [
    "EJERCICIO 08"
   ]
  },
  {
   "cell_type": "code",
   "execution_count": 9,
   "metadata": {},
   "outputs": [
    {
     "name": "stdout",
     "output_type": "stream",
     "text": [
      "Las letras de la palabra introducida, empezando por la última:\n",
      "E\n",
      "V\n",
      "O\n",
      "L\n"
     ]
    }
   ],
   "source": [
    "palabra = input(\"ingresa una palabra: \")\n",
    "\n",
    "\n",
    "print(\"Las letras de la palabra introducida, empezando por la última:\")\n",
    "for letra in reversed(palabra):\n",
    "    print(letra)"
   ]
  },
  {
   "cell_type": "markdown",
   "metadata": {},
   "source": [
    "EJERCICIO 09"
   ]
  },
  {
   "cell_type": "code",
   "execution_count": 10,
   "metadata": {},
   "outputs": [
    {
     "name": "stdout",
     "output_type": "stream",
     "text": [
      "La letra 'N' aparece 1 veces en la frase.\n"
     ]
    }
   ],
   "source": [
    "frase = input(\"ingresa una frase: \")\n",
    "letra = input(\"Ingresa una letra para buscar en la frase: \")\n",
    "contador = frase.count(letra)\n",
    "\n",
    "print(f\"La letra '{letra}' aparece {contador} veces en la frase.\")"
   ]
  },
  {
   "cell_type": "markdown",
   "metadata": {},
   "source": [
    "EJERCICIO 10 "
   ]
  },
  {
   "cell_type": "code",
   "execution_count": 11,
   "metadata": {},
   "outputs": [
    {
     "name": "stdout",
     "output_type": "stream",
     "text": [
      "1\n",
      "21\n",
      "321\n",
      "4321\n",
      "54321\n",
      "654321\n",
      "7654321\n",
      "87654321\n",
      "987654321\n",
      "10987654321\n",
      "1110987654321\n",
      "121110987654321\n",
      "13121110987654321\n",
      "1413121110987654321\n",
      "151413121110987654321\n",
      "16151413121110987654321\n",
      "1716151413121110987654321\n",
      "181716151413121110987654321\n",
      "19181716151413121110987654321\n",
      "2019181716151413121110987654321\n"
     ]
    }
   ],
   "source": [
    "numero = int(input(\"ingresa un número entero: \"))\n",
    "\n",
    "for i in range(1, numero + 1):\n",
    "    for j in range(i, 0, -1):\n",
    "        print(j, end=\"\")\n",
    "    print() "
   ]
  }
 ],
 "metadata": {
  "kernelspec": {
   "display_name": "Python 3",
   "language": "python",
   "name": "python3"
  },
  "language_info": {
   "codemirror_mode": {
    "name": "ipython",
    "version": 3
   },
   "file_extension": ".py",
   "mimetype": "text/x-python",
   "name": "python",
   "nbconvert_exporter": "python",
   "pygments_lexer": "ipython3",
   "version": "3.12.3"
  }
 },
 "nbformat": 4,
 "nbformat_minor": 2
}
